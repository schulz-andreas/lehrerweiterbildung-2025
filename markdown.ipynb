{
 "cells": [
  {
   "cell_type": "markdown",
   "id": "patient-medicaid",
   "metadata": {},
   "source": [
    "# 🧪 Markdown-Demo für JupyterLab"
   ]
  },
  {
   "cell_type": "markdown",
   "id": "personal-render",
   "metadata": {},
   "source": [
    "# 1. Überschriften"
   ]
  },
  {
   "cell_type": "markdown",
   "id": "rapid-alpha",
   "metadata": {},
   "source": [
    "# Überschrift 1. Ordnung\n",
    "## Überschrift 2. Ordnung\n",
    "### Überschrift 3. Ordnung\n",
    "#### Überschrift 4. Ordnung\n",
    "##### Überschrift 5. Ordnung\n",
    "###### Überschrift 6. Ordnung"
   ]
  },
  {
   "cell_type": "markdown",
   "id": "studied-update",
   "metadata": {},
   "source": [
    "## 2. Formatierungen\n",
    "**Fett**  \n",
    "*Kursiv*  \n",
    "***Fett und kursiv***  \n",
    "~~Durchgestrichen~~\n",
    "\n",
    "`monospace / inline Code`\n",
    "> blockquote\n",
    "\n",
    "<ins>Unterstrichen (HTML)</ins>\n",
    "\n",
    "---"
   ]
  },
  {
   "cell_type": "markdown",
   "id": "intimate-playing",
   "metadata": {},
   "source": [
    "## 3. Listen\n"
   ]
  },
  {
   "cell_type": "markdown",
   "id": "included-section",
   "metadata": {},
   "source": [
    "## Aufzählung:\n",
    "- Punkt 1\n",
    "- Punkt 2\n",
    "  - Unterpunkt\n",
    "    - Noch tiefer"
   ]
  },
  {
   "cell_type": "markdown",
   "id": "smooth-russell",
   "metadata": {},
   "source": [
    "## Nummerierte Liste:\n",
    "1. Erstens\n",
    "2. Zweitens\n",
    "   1. Unterpunkt\n",
    "   2. Noch einer\n",
    "\n",
    "---"
   ]
  },
  {
   "cell_type": "markdown",
   "id": "offensive-hudson",
   "metadata": {},
   "source": [
    "## 4. Links und Bilder\n",
    "[OpenAI](https://www.openai.com)\n",
    "\n",
    "![Jupyter Logo](https://jupyter.org/assets/homepage/main-logo.svg)\n",
    "\n",
    "---"
   ]
  },
  {
   "cell_type": "markdown",
   "id": "antique-notion",
   "metadata": {},
   "source": [
    "## 5. Zitate\n",
    "> „Das ist ein Zitat.“ – Berühmte Person\n",
    "\n",
    "---"
   ]
  },
  {
   "cell_type": "markdown",
   "id": "excellent-theta",
   "metadata": {},
   "source": [
    "## 6. Code\n",
    "#"
   ]
  },
  {
   "cell_type": "markdown",
   "id": "polished-brazilian",
   "metadata": {},
   "source": [
    "## Inline-Code:\n",
    "`print(\"Hallo Welt\")`"
   ]
  },
  {
   "cell_type": "markdown",
   "id": "olympic-lloyd",
   "metadata": {},
   "source": [
    "## Codeblock (Python):\n",
    "```python\n",
    "def quadrat(x):\n",
    "    return x**2\n",
    "\n",
    "print(quadrat(3))\n",
    "```"
   ]
  },
  {
   "cell_type": "markdown",
   "id": "understood-isolation",
   "metadata": {},
   "source": [
    "## Codeblock (Shell):\n",
    "```bash\n",
    "ls -la\n",
    "```\n",
    "\n",
    "---"
   ]
  },
  {
   "cell_type": "markdown",
   "id": "horizontal-messenger",
   "metadata": {},
   "source": [
    "## 7. Tabellen\n",
    "| Name       | Alter | Beruf       |\n",
    "|------------|-------|-------------|\n",
    "| Max        | 28    | Entwickler  |\n",
    "| Julia      | 34    | Designerin  |\n",
    "\n",
    "---"
   ]
  },
  {
   "cell_type": "markdown",
   "id": "digital-watch",
   "metadata": {},
   "source": [
    "## 8. Mathematische Ausdrücke (LaTeX)\n",
    "Inline: \\( E = mc^2 \\)\n",
    "\n",
    "Block:\n",
    "$$\n",
    "\\int_{-\\infty}^{\\infty} e^{-x^2} dx = \\sqrt{\\pi}\n",
    "$$\n",
    "\n",
    "---"
   ]
  },
  {
   "cell_type": "markdown",
   "id": "right-genesis",
   "metadata": {},
   "source": [
    "## 9. Horizontale Linie\n",
    "---"
   ]
  },
  {
   "cell_type": "markdown",
   "id": "supreme-hartford",
   "metadata": {},
   "source": [
    "## 10. HTML-Unterstützung\n",
    "<div style=\"color:blue; font-weight:bold;\">\n",
    "Dieser Text ist blau und fett durch HTML.\n",
    "</div>\n",
    "\n",
    "---"
   ]
  },
  {
   "cell_type": "markdown",
   "id": "aggressive-torture",
   "metadata": {},
   "source": [
    "## 11. Aufgabenliste\n",
    "- [x] Markdown verstehen\n",
    "- [ ] Beispiel speichern\n",
    "- [ ] Jupyter weiter erkunden\n",
    "\n",
    "---"
   ]
  },
  {
   "cell_type": "markdown",
   "id": "further-lightning",
   "metadata": {},
   "source": [
    "## 12. Emoji\n",
    "👍 🚀 ✅ 🧠 💻\n",
    "\n",
    "---"
   ]
  },
  {
   "cell_type": "markdown",
   "id": "secondary-bulgarian",
   "metadata": {},
   "source": [
    "## 13. Escaping von Zeichen\n",
    "\\*dies ist nicht kursiv\\*, sondern ein Sternchen\n",
    "\n",
    "---"
   ]
  },
  {
   "cell_type": "markdown",
   "id": "continuous-tucson",
   "metadata": {},
   "source": [
    "## 14. Erweiterte Syntax (Jupyter Notebook spezifisch)\n",
    "Manchmal funktioniert auch eingebettetes HTML oder LaTeX-Magie direkt besser als Markdown pur.\n",
    "\n",
    "---\n",
    "\n",
    "**Ende der Demo. Viel Spaß beim Schreiben von Notizen!**"
   ]
  },
  {
   "cell_type": "code",
   "execution_count": null,
   "id": "joined-pathology",
   "metadata": {},
   "outputs": [],
   "source": []
  }
 ],
 "metadata": {
  "kernelspec": {
   "display_name": "Python 3",
   "language": "python",
   "name": "python3"
  },
  "language_info": {
   "codemirror_mode": {
    "name": "ipython",
    "version": 3
   },
   "file_extension": ".py",
   "mimetype": "text/x-python",
   "name": "python",
   "nbconvert_exporter": "python",
   "pygments_lexer": "ipython3",
   "version": "3.8.6"
  }
 },
 "nbformat": 4,
 "nbformat_minor": 5
}
